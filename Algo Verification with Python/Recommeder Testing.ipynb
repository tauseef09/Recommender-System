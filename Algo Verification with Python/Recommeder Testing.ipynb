{
 "cells": [
  {
   "cell_type": "code",
   "execution_count": 1,
   "metadata": {},
   "outputs": [
    {
     "data": {
      "text/plain": [
       "{'__header__': b'MATLAB 5.0 MAT-file, Platform: GLNXA64, Created on: Thu Dec  1 17:19:26 2011',\n",
       " '__version__': '1.0',\n",
       " '__globals__': [],\n",
       " 'Y': array([[5, 4, 0, ..., 5, 0, 0],\n",
       "        [3, 0, 0, ..., 0, 0, 5],\n",
       "        [4, 0, 0, ..., 0, 0, 0],\n",
       "        ...,\n",
       "        [0, 0, 0, ..., 0, 0, 0],\n",
       "        [0, 0, 0, ..., 0, 0, 0],\n",
       "        [0, 0, 0, ..., 0, 0, 0]], dtype=uint8),\n",
       " 'R': array([[1, 1, 0, ..., 1, 0, 0],\n",
       "        [1, 0, 0, ..., 0, 0, 1],\n",
       "        [1, 0, 0, ..., 0, 0, 0],\n",
       "        ...,\n",
       "        [0, 0, 0, ..., 0, 0, 0],\n",
       "        [0, 0, 0, ..., 0, 0, 0],\n",
       "        [0, 0, 0, ..., 0, 0, 0]], dtype=uint8)}"
      ]
     },
     "execution_count": 1,
     "metadata": {},
     "output_type": "execute_result"
    }
   ],
   "source": [
    "from scipy.io import loadmat\n",
    "annots = loadmat('ex8_movies.mat')\n",
    "\n",
    "annots"
   ]
  },
  {
   "cell_type": "code",
   "execution_count": 2,
   "metadata": {},
   "outputs": [],
   "source": [
    "import numpy as np \n",
    "import pandas as pd \n",
    "from matplotlib import pyplot as plt\n",
    "\n",
    "data = dict()"
   ]
  },
  {
   "cell_type": "code",
   "execution_count": 3,
   "metadata": {},
   "outputs": [
    {
     "data": {
      "text/plain": [
       "{'Y': array([[5, 4, 0, ..., 5, 0, 0],\n",
       "        [3, 0, 0, ..., 0, 0, 5],\n",
       "        [4, 0, 0, ..., 0, 0, 0],\n",
       "        ...,\n",
       "        [0, 0, 0, ..., 0, 0, 0],\n",
       "        [0, 0, 0, ..., 0, 0, 0],\n",
       "        [0, 0, 0, ..., 0, 0, 0]], dtype=uint8),\n",
       " 'R': array([[1, 1, 0, ..., 1, 0, 0],\n",
       "        [1, 0, 0, ..., 0, 0, 1],\n",
       "        [1, 0, 0, ..., 0, 0, 0],\n",
       "        ...,\n",
       "        [0, 0, 0, ..., 0, 0, 0],\n",
       "        [0, 0, 0, ..., 0, 0, 0],\n",
       "        [0, 0, 0, ..., 0, 0, 0]], dtype=uint8)}"
      ]
     },
     "execution_count": 3,
     "metadata": {},
     "output_type": "execute_result"
    }
   ],
   "source": [
    "for key, item in annots.items():\n",
    "    if key=='Y' or key=='R':\n",
    "        data[key]=item\n",
    "\n",
    "data "
   ]
  },
  {
   "cell_type": "code",
   "execution_count": 4,
   "metadata": {},
   "outputs": [
    {
     "name": "stdout",
     "output_type": "stream",
     "text": [
      "[[2 3]\n",
      " [4 5]]\n",
      "[[2 4]\n",
      " [3 5]]\n"
     ]
    }
   ],
   "source": [
    "a=np.array([[2,3],[4,5]])\n",
    "\n",
    "b=np.transpose(a.copy())\n",
    "print(a)\n",
    "print(b)"
   ]
  },
  {
   "cell_type": "code",
   "execution_count": 5,
   "metadata": {},
   "outputs": [
    {
     "name": "stdout",
     "output_type": "stream",
     "text": [
      "[[ 0 -1]\n",
      " [ 1  0]]\n",
      "\n",
      "\n",
      "14\n",
      "\n",
      "\n",
      "[[ 4  9]\n",
      " [16 25]]\n",
      "\n",
      "\n",
      "[[10 15]\n",
      " [20 25]]\n",
      "\n",
      "\n",
      "[1.5]\n",
      "[1]\n"
     ]
    }
   ],
   "source": [
    "print(a-b)\n",
    "print('\\n')\n",
    "\n",
    "print(a.sum())\n",
    "print('\\n')\n",
    "\n",
    "print(a*a)\n",
    "print('\\n')\n",
    "print(5*a)\n",
    "print('\\n')\n",
    "\n",
    "j=[]\n",
    "i=[]\n",
    "j.append(1.5)\n",
    "i.append(1)\n",
    "print(j)\n",
    "print(i)"
   ]
  },
  {
   "cell_type": "code",
   "execution_count": 6,
   "metadata": {},
   "outputs": [
    {
     "name": "stdout",
     "output_type": "stream",
     "text": [
      "[[1 2 3]\n",
      " [4 5 6]]\n",
      "[[ 7  8  9]\n",
      " [10 11 12]]\n",
      "[ 1  2  3  4  5  6  7  8  9 10 11 12]\n",
      "\n",
      "\n",
      "[[2 3 4]\n",
      " [5 6 7]]\n",
      "[[ 8  9 10]\n",
      " [11 12 13]]\n"
     ]
    }
   ],
   "source": [
    "#concatenating and reshaping the matrices\n",
    "\n",
    "x=np.array([[1,2,3],[4,5,6]])\n",
    "y=np.array([[7,8,9],[10,11,12]])\n",
    "\n",
    "z=np.concatenate((x,y), axis=None)\n",
    "\n",
    "print(x)\n",
    "print(y)\n",
    "print(z)\n",
    "print('\\n')\n",
    "\n",
    "z=z+1;\n",
    "x, y = z[:6,], z[6:,]\n",
    "x=np.reshape(x, (2,3))\n",
    "y=np.reshape(y, (2,3))\n",
    "print(x)\n",
    "print(y)"
   ]
  },
  {
   "cell_type": "code",
   "execution_count": 7,
   "metadata": {},
   "outputs": [
    {
     "data": {
      "text/plain": [
       "(1682, 1)"
      ]
     },
     "execution_count": 7,
     "metadata": {},
     "output_type": "execute_result"
    }
   ],
   "source": [
    "my_ratings = np.zeros((1682, 1), dtype=float)\n",
    "my_ratings.shape "
   ]
  },
  {
   "cell_type": "code",
   "execution_count": 13,
   "metadata": {},
   "outputs": [
    {
     "name": "stdout",
     "output_type": "stream",
     "text": [
      "[[0]\n",
      " [1]\n",
      " [1]\n",
      " ...\n",
      " [0]\n",
      " [0]\n",
      " [0]]\n",
      "[[1]\n",
      " [0]\n",
      " [0]\n",
      " ...\n",
      " [1]\n",
      " [1]\n",
      " [1]]\n"
     ]
    }
   ],
   "source": [
    "my_ratings[7] = 3;\n",
    "my_ratings[12]= 5;\n",
    "my_ratings[54] = 4;\n",
    "my_ratings[64]= 5;\n",
    "my_ratings[66]= 3;\n",
    "my_ratings[69] = 5;\n",
    "my_ratings[183] = 4;\n",
    "my_ratings[226] = 5;\n",
    "my_ratings[355]= 5;\n",
    "my_ratings[1] = 4;\n",
    "my_ratings[2] = 4;\n",
    "\n",
    "#generating user y vector from the user ratings\n",
    "my_y = (my_ratings!=0)*1\n",
    "print(my_y)\n",
    "\n",
    "my_inv_y = (my_y -1)*-1 \n",
    "print(my_inv_y)"
   ]
  },
  {
   "cell_type": "code",
   "execution_count": 9,
   "metadata": {},
   "outputs": [
    {
     "data": {
      "text/plain": [
       "'1 Toy Story (1995)'"
      ]
     },
     "execution_count": 9,
     "metadata": {},
     "output_type": "execute_result"
    }
   ],
   "source": [
    "with open('movie_ids.txt') as f:\n",
    "    movieList = [line.rstrip('\\n') for line in f]\n",
    "movieList[0]"
   ]
  },
  {
   "cell_type": "code",
   "execution_count": 10,
   "metadata": {},
   "outputs": [
    {
     "name": "stdout",
     "output_type": "stream",
     "text": [
      "7\n",
      "6\n"
     ]
    }
   ],
   "source": [
    "l = np.ones((7,1), dtype=float)\n",
    "l2 = np.zeros((7, 5), dtype=float)\n",
    "#np.concatenate((l,l2), axis=1)\n",
    "l3 = np.hstack((l,l2))\n",
    "m,n = l3.shape\n",
    "print(m)\n",
    "print(n)"
   ]
  },
  {
   "cell_type": "code",
   "execution_count": null,
   "metadata": {},
   "outputs": [],
   "source": []
  }
 ],
 "metadata": {
  "kernelspec": {
   "display_name": "Python 3",
   "language": "python",
   "name": "python3"
  },
  "language_info": {
   "codemirror_mode": {
    "name": "ipython",
    "version": 3
   },
   "file_extension": ".py",
   "mimetype": "text/x-python",
   "name": "python",
   "nbconvert_exporter": "python",
   "pygments_lexer": "ipython3",
   "version": "3.7.6"
  }
 },
 "nbformat": 4,
 "nbformat_minor": 4
}
