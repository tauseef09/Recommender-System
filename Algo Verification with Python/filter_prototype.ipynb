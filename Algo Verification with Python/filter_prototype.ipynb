{
 "cells": [
  {
   "cell_type": "code",
   "execution_count": 32,
   "metadata": {},
   "outputs": [],
   "source": [
    "import pandas as pd"
   ]
  },
  {
   "cell_type": "code",
   "execution_count": 33,
   "metadata": {},
   "outputs": [],
   "source": [
    "suggested_content_dict = {1: \"Toy Story (1995)\", 4: \"Star Wars (1977)\", 5: \"Shawshank Redemption, The (1994)\", 3: \"Batman Forever (1995)\"}\n",
    "user_mood = \"Happy\""
   ]
  },
  {
   "cell_type": "code",
   "execution_count": 34,
   "metadata": {},
   "outputs": [],
   "source": [
    "def filter_content(user_mood, suggested_content_dict, choice):\n",
    "\n",
    "    if(choice == \"movies\"):\n",
    "        #loading the content data \n",
    "        test_data = {\"movie_id\": [1, 2, 3, 4, 5, 6], \"name\": [\"Toy Story (1995)\", \"Apollo 13 (1995)\", \"Batman Forever (1995)\", \n",
    "                                                             \"Star Wars (1977)\", \"Shawshank Redemption, The (1994)\", \n",
    "                                                              \"Lion King, The (1994)\"], \n",
    "                    \"mood\": [[\"Happy\", \"Neutral\", \"Surprised\"], [\"Fearful\", \"Neutral\", \"Surprised\"], [\"Disgusted\"], \n",
    "                             [\"Surprised\", \"Happy\"], [\"Surprised\", \"Happy\"], [\"Sad\", \"Happy\"]]}\n",
    "        df = pd.DataFrame(data=test_data)        \n",
    "    \n",
    "    # filters the dataframe based on user_mood and user_likes dictionary\n",
    "    filt = (df.apply(lambda row: user_mood in row[\"mood\"], axis=1)) & (df['movie_id'].isin(suggested_content_dict.keys()))\n",
    "    df_filtered = df[[\"movie_id\", \"name\"]][filt]\n",
    "    \n",
    "    # filtered dictionary that has to be returned\n",
    "    mood_filtered_dict = dict()\n",
    "    mood_filtered_dict = df_filtered.set_index('movie_id').T.to_dict('records')[0]\n",
    "    return mood_filtered_dict"
   ]
  },
  {
   "cell_type": "code",
   "execution_count": 35,
   "metadata": {},
   "outputs": [
    {
     "data": {
      "text/plain": [
       "{1: 'Toy Story (1995)',\n",
       " 4: 'Star Wars (1977)',\n",
       " 5: 'Shawshank Redemption, The (1994)'}"
      ]
     },
     "execution_count": 35,
     "metadata": {},
     "output_type": "execute_result"
    }
   ],
   "source": [
    "mood_filtered_dict = filter_content(user_mood=user_mood, suggested_content_dict=suggested_content_dict, choice = \"movies\")\n",
    "mood_filtered_dict"
   ]
  },
  {
   "cell_type": "code",
   "execution_count": null,
   "metadata": {},
   "outputs": [],
   "source": []
  }
 ],
 "metadata": {
  "kernelspec": {
   "display_name": "Python 3",
   "language": "python",
   "name": "python3"
  },
  "language_info": {
   "codemirror_mode": {
    "name": "ipython",
    "version": 3
   },
   "file_extension": ".py",
   "mimetype": "text/x-python",
   "name": "python",
   "nbconvert_exporter": "python",
   "pygments_lexer": "ipython3",
   "version": "3.7.6"
  }
 },
 "nbformat": 4,
 "nbformat_minor": 4
}
