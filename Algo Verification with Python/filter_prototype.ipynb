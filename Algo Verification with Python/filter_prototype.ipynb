{
 "cells": [
  {
   "cell_type": "code",
   "execution_count": 1,
   "metadata": {},
   "outputs": [],
   "source": [
    "import pandas as pd"
   ]
  },
  {
   "cell_type": "code",
   "execution_count": 14,
   "metadata": {},
   "outputs": [],
   "source": [
    "suggested_content_dict = {1: \"Toy Story (1995)\", 5: \"Copycat (1995)\", 12: \"Usual Suspects, The (1995)\", \n",
    "                          23: \"Taxi Driver (1976)\"}\n",
    "# suggested_content_dict = {2: \"Harry Potter and the Prisoner of Azkaban (Harry Potter  #3)\", \n",
    "#                          9: \"The Book Thief\", 4: \"Harry Potter and the Order of the Phoenix (Harry Potter  #5)\"}\n",
    "user_mood = \"Surprised\""
   ]
  },
  {
   "cell_type": "code",
   "execution_count": 15,
   "metadata": {},
   "outputs": [],
   "source": [
    "def filter_content(user_mood, suggested_content_dict, choice):\n",
    "\n",
    "    if choice == \"movies\":\n",
    "        df = pd.read_csv('data/movie_ids.csv')\n",
    "    elif choice == \"books\":\n",
    "        df = pd.read_csv('data/book_ids.csv')\n",
    "    \n",
    "    # filters the dataframe based on user_mood and user_likes dictionary\n",
    "    filt = (df.apply(lambda row: user_mood in row[\"mood\"], axis=1)) & (df['id'].isin(suggested_content_dict.keys()))\n",
    "    df_filtered = df[[\"id\", \"name\"]][filt]\n",
    "    \n",
    "    # filtered dictionary that has to be returned\n",
    "    mood_filtered_dict = dict()\n",
    "    mood_filtered_dict = df_filtered.set_index('id').T.to_dict('records')[0]\n",
    "    return mood_filtered_dict"
   ]
  },
  {
   "cell_type": "code",
   "execution_count": 16,
   "metadata": {},
   "outputs": [
    {
     "data": {
      "text/plain": [
       "{1: 'Toy Story (1995)'}"
      ]
     },
     "execution_count": 16,
     "metadata": {},
     "output_type": "execute_result"
    }
   ],
   "source": [
    "mood_filtered_dict = filter_content(user_mood=user_mood, suggested_content_dict=suggested_content_dict, choice = \"movies\")\n",
    "mood_filtered_dict"
   ]
  },
  {
   "cell_type": "code",
   "execution_count": null,
   "metadata": {},
   "outputs": [],
   "source": []
  }
 ],
 "metadata": {
  "kernelspec": {
   "display_name": "Python 3",
   "language": "python",
   "name": "python3"
  },
  "language_info": {
   "codemirror_mode": {
    "name": "ipython",
    "version": 3
   },
   "file_extension": ".py",
   "mimetype": "text/x-python",
   "name": "python",
   "nbconvert_exporter": "python",
   "pygments_lexer": "ipython3",
   "version": "3.7.6"
  }
 },
 "nbformat": 4,
 "nbformat_minor": 4
}
