{
 "cells": [
  {
   "cell_type": "code",
   "execution_count": 8,
   "metadata": {},
   "outputs": [],
   "source": [
    "import pandas as pd"
   ]
  },
  {
   "cell_type": "code",
   "execution_count": 9,
   "metadata": {},
   "outputs": [
    {
     "data": {
      "text/html": [
       "<div>\n",
       "<style scoped>\n",
       "    .dataframe tbody tr th:only-of-type {\n",
       "        vertical-align: middle;\n",
       "    }\n",
       "\n",
       "    .dataframe tbody tr th {\n",
       "        vertical-align: top;\n",
       "    }\n",
       "\n",
       "    .dataframe thead th {\n",
       "        text-align: right;\n",
       "    }\n",
       "</style>\n",
       "<table border=\"1\" class=\"dataframe\">\n",
       "  <thead>\n",
       "    <tr style=\"text-align: right;\">\n",
       "      <th></th>\n",
       "      <th>movie_id</th>\n",
       "      <th>name</th>\n",
       "      <th>mood</th>\n",
       "    </tr>\n",
       "  </thead>\n",
       "  <tbody>\n",
       "    <tr>\n",
       "      <th>0</th>\n",
       "      <td>1</td>\n",
       "      <td>Toy Story (1995)</td>\n",
       "      <td>[Happy, Neutral, Surprised]</td>\n",
       "    </tr>\n",
       "    <tr>\n",
       "      <th>1</th>\n",
       "      <td>2</td>\n",
       "      <td>Apollo 13 (1995)</td>\n",
       "      <td>[Fearful, Neutral, Surprised]</td>\n",
       "    </tr>\n",
       "    <tr>\n",
       "      <th>2</th>\n",
       "      <td>3</td>\n",
       "      <td>Batman Forever (1995)</td>\n",
       "      <td>[Disgusted]</td>\n",
       "    </tr>\n",
       "    <tr>\n",
       "      <th>3</th>\n",
       "      <td>4</td>\n",
       "      <td>Star Wars (1977)</td>\n",
       "      <td>[Surprised, Happy]</td>\n",
       "    </tr>\n",
       "    <tr>\n",
       "      <th>4</th>\n",
       "      <td>5</td>\n",
       "      <td>Shawshank Redemption, The (1994)</td>\n",
       "      <td>[Surprised, Happy]</td>\n",
       "    </tr>\n",
       "    <tr>\n",
       "      <th>5</th>\n",
       "      <td>6</td>\n",
       "      <td>Lion King, The (1994)</td>\n",
       "      <td>[Sad, Happy]</td>\n",
       "    </tr>\n",
       "  </tbody>\n",
       "</table>\n",
       "</div>"
      ],
      "text/plain": [
       "   movie_id                              name                           mood\n",
       "0         1                  Toy Story (1995)    [Happy, Neutral, Surprised]\n",
       "1         2                  Apollo 13 (1995)  [Fearful, Neutral, Surprised]\n",
       "2         3             Batman Forever (1995)                    [Disgusted]\n",
       "3         4                  Star Wars (1977)             [Surprised, Happy]\n",
       "4         5  Shawshank Redemption, The (1994)             [Surprised, Happy]\n",
       "5         6             Lion King, The (1994)                   [Sad, Happy]"
      ]
     },
     "execution_count": 9,
     "metadata": {},
     "output_type": "execute_result"
    }
   ],
   "source": [
    "# some test data\n",
    "test_data = {\"movie_id\": [1, 2, 3, 4, 5, 6], \"name\": [\"Toy Story (1995)\", \"Apollo 13 (1995)\", \"Batman Forever (1995)\", \n",
    "                                                     \"Star Wars (1977)\", \"Shawshank Redemption, The (1994)\", \n",
    "                                                      \"Lion King, The (1994)\"], \n",
    "            \"mood\": [[\"Happy\", \"Neutral\", \"Surprised\"], [\"Fearful\", \"Neutral\", \"Surprised\"], [\"Disgusted\"], \n",
    "                     [\"Surprised\", \"Happy\"], [\"Surprised\", \"Happy\"], [\"Sad\", \"Happy\"]]}\n",
    "df = pd.DataFrame(data=test_data)\n",
    "df"
   ]
  },
  {
   "cell_type": "code",
   "execution_count": 10,
   "metadata": {},
   "outputs": [
    {
     "data": {
      "text/plain": [
       "{1: 'Toy Story (1995)',\n",
       " 4: 'Star Wars (1977)',\n",
       " 5: 'Shawshank Redemption, The (1994)',\n",
       " 3: 'Batman Forever (1995)'}"
      ]
     },
     "execution_count": 10,
     "metadata": {},
     "output_type": "execute_result"
    }
   ],
   "source": [
    "# the dictionary that holds what user likes and the mood detected\n",
    "user_likes = {1: \"Toy Story (1995)\", 4: \"Star Wars (1977)\", 5: \"Shawshank Redemption, The (1994)\", 3: \"Batman Forever (1995)\"}\n",
    "user_mood = \"Happy\"\n",
    "user_likes"
   ]
  },
  {
   "cell_type": "code",
   "execution_count": 11,
   "metadata": {
    "scrolled": true
   },
   "outputs": [
    {
     "data": {
      "text/html": [
       "<div>\n",
       "<style scoped>\n",
       "    .dataframe tbody tr th:only-of-type {\n",
       "        vertical-align: middle;\n",
       "    }\n",
       "\n",
       "    .dataframe tbody tr th {\n",
       "        vertical-align: top;\n",
       "    }\n",
       "\n",
       "    .dataframe thead th {\n",
       "        text-align: right;\n",
       "    }\n",
       "</style>\n",
       "<table border=\"1\" class=\"dataframe\">\n",
       "  <thead>\n",
       "    <tr style=\"text-align: right;\">\n",
       "      <th></th>\n",
       "      <th>movie_id</th>\n",
       "      <th>name</th>\n",
       "    </tr>\n",
       "  </thead>\n",
       "  <tbody>\n",
       "    <tr>\n",
       "      <th>0</th>\n",
       "      <td>1</td>\n",
       "      <td>Toy Story (1995)</td>\n",
       "    </tr>\n",
       "    <tr>\n",
       "      <th>3</th>\n",
       "      <td>4</td>\n",
       "      <td>Star Wars (1977)</td>\n",
       "    </tr>\n",
       "    <tr>\n",
       "      <th>4</th>\n",
       "      <td>5</td>\n",
       "      <td>Shawshank Redemption, The (1994)</td>\n",
       "    </tr>\n",
       "  </tbody>\n",
       "</table>\n",
       "</div>"
      ],
      "text/plain": [
       "   movie_id                              name\n",
       "0         1                  Toy Story (1995)\n",
       "3         4                  Star Wars (1977)\n",
       "4         5  Shawshank Redemption, The (1994)"
      ]
     },
     "execution_count": 11,
     "metadata": {},
     "output_type": "execute_result"
    }
   ],
   "source": [
    "# filters the dataframe based on user_mood and user_likes dictionary\n",
    "filt = (df.apply(lambda row: user_mood in row[\"mood\"], axis=1)) & (df['movie_id'].isin(user_likes.keys()))\n",
    "df_filtered = df[[\"movie_id\", \"name\"]][filt]\n",
    "df_filtered"
   ]
  },
  {
   "cell_type": "code",
   "execution_count": 12,
   "metadata": {},
   "outputs": [
    {
     "data": {
      "text/plain": [
       "{1: 'Toy Story (1995)',\n",
       " 4: 'Star Wars (1977)',\n",
       " 5: 'Shawshank Redemption, The (1994)'}"
      ]
     },
     "execution_count": 12,
     "metadata": {},
     "output_type": "execute_result"
    }
   ],
   "source": [
    "# this is the filtered dictionary that has to be returned\n",
    "df_filtered.set_index('movie_id').T.to_dict('records')[0]"
   ]
  }
 ],
 "metadata": {
  "kernelspec": {
   "display_name": "Python 3",
   "language": "python",
   "name": "python3"
  },
  "language_info": {
   "codemirror_mode": {
    "name": "ipython",
    "version": 3
   },
   "file_extension": ".py",
   "mimetype": "text/x-python",
   "name": "python",
   "nbconvert_exporter": "python",
   "pygments_lexer": "ipython3",
   "version": "3.7.6"
  }
 },
 "nbformat": 4,
 "nbformat_minor": 4
}
