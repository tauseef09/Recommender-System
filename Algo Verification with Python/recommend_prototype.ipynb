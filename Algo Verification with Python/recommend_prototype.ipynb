{
 "cells": [
  {
   "cell_type": "code",
   "execution_count": null,
   "metadata": {},
   "outputs": [],
   "source": [
    "import numpy as np\n",
    "from scipy.io import loadmat\n",
    "from scipy import optimize\n",
    "import pandas as pd"
   ]
  },
  {
   "cell_type": "code",
   "execution_count": null,
   "metadata": {},
   "outputs": [],
   "source": [
    "# returns the number of features \n",
    "def return_features():\n",
    "    \n",
    "    n = 11\n",
    "    \n",
    "    return n"
   ]
  },
  {
   "cell_type": "code",
   "execution_count": null,
   "metadata": {},
   "outputs": [],
   "source": [
    "# downloads the y, r matrices of the movies and return the corresponding numpy arrays\n",
    "def download_yr_movies():\n",
    "    # extracting the y and r matrices from the csv files\n",
    "    r = pd.read_csv('data/r_movies.csv').to_numpy()\n",
    "    y = pd.read_csv('data/y_movies.csv').to_numpy()\n",
    "    \n",
    "    return y, r"
   ]
  },
  {
   "cell_type": "code",
   "execution_count": null,
   "metadata": {},
   "outputs": [],
   "source": [
    "# uploads the updated version of the y, r matrices\n",
    "def upload_yr_movies(y, r):\n",
    "    # converting numpy array to csv file\n",
    "    pd.DataFrame(r).to_csv('data/r_movies.csv', index=False)\n",
    "    pd.DataFrame(y).to_csv('data/y_movies.csv', index=False)"
   ]
  },
  {
   "cell_type": "code",
   "execution_count": null,
   "metadata": {
    "scrolled": true
   },
   "outputs": [],
   "source": [
    "# function to normalize the dataset \n",
    "def mean_normal(y, r):\n",
    "    temp = np.zeros(y.shape, dtype = float)\n",
    "    yMean = np.zeros((y.shape[0], 1), dtype = float)\n",
    "    for i in range(len(r)):\n",
    "        mean = sum(y[i]) / sum(r[i])\n",
    "        \n",
    "        temp[i] = y[i] - mean\n",
    "        yMean[i] = mean\n",
    "       \n",
    "    return temp * r, yMean;"
   ]
  },
  {
   "cell_type": "code",
   "execution_count": null,
   "metadata": {},
   "outputs": [],
   "source": [
    "# function for calculating the cost \n",
    "def f(initial_theta, *args):\n",
    "    # preparing required variables\n",
    "    yPrime, Lambda = args\n",
    "    r = (yPrime != 0) * 1\n",
    "    n = return_features()\n",
    "    no_of_movies = yPrime.shape[0] \n",
    "    no_of_users = yPrime.shape[1]\n",
    "    \n",
    "    # mathematical calculations for computing the cost\n",
    "    X, Theta = initial_theta[:no_of_movies*n,], initial_theta[no_of_movies*n:,]\n",
    "    X = np.reshape(X, (no_of_movies, n))\n",
    "    Theta = np.reshape(Theta, (no_of_users, n))\n",
    "    Error = ((X.dot(np.transpose(Theta)))-yPrime).copy()\n",
    "    J = (.5) * ((Error * Error)* r).sum()\n",
    "    Reg_term_theta = (Lambda / 2) * ((Theta * Theta).sum())\n",
    "    Reg_term_X = (Lambda / 2) * ((X * X).sum())\n",
    "    J = J + Reg_term_theta + Reg_term_X\n",
    "    return J"
   ]
  },
  {
   "cell_type": "code",
   "execution_count": null,
   "metadata": {},
   "outputs": [],
   "source": [
    "# function for calculating the gradients\n",
    "def grads(initial_theta, *args):\n",
    "    # preparing required variables\n",
    "    yPrime, Lambda = args\n",
    "    r = (yPrime != 0) * 1\n",
    "    n = return_features()\n",
    "    no_of_movies = yPrime.shape[0] \n",
    "    no_of_users = yPrime.shape[1]\n",
    "    \n",
    "    # mathematical calculations for calculating the gradients\n",
    "    X, Theta = initial_theta[:no_of_movies*n,], initial_theta[no_of_movies*n:,]\n",
    "    X = np.reshape(X, (no_of_movies, n))\n",
    "    Theta = np.reshape(Theta, (no_of_users, n))\n",
    "    Error = ((X.dot(np.transpose(Theta)))-yPrime).copy()\n",
    "    X_grad = ((Error*r).dot(Theta) + Lambda * X).copy()\n",
    "    Theta_grad = ((np.transpose(Error*r)).dot(X) + Lambda * Theta).copy()\n",
    "    rolled_up_grads = np.concatenate((X_grad, Theta_grad), axis=None)\n",
    "    return rolled_up_grads"
   ]
  },
  {
   "cell_type": "code",
   "execution_count": null,
   "metadata": {},
   "outputs": [],
   "source": [
    "def recommend(userID, y, r):\n",
    "    # creating the movie list from the movie_ids csv file\n",
    "    movieList = pd.read_csv('data/movie_ids.csv')[\"name\"].to_list()\n",
    "    n = return_features() # retrieving the number of features\n",
    "    \n",
    "    # creating the user's rating vector and r vector\n",
    "    my_ratings = np.zeros((y.shape[0], 1), dtype = float)\n",
    "    temp = y[:, userID]\n",
    "    my_ratings = temp.reshape((y.shape[0], 1))\n",
    "    my_r = (my_ratings != 0) * 1\n",
    "    \n",
    "    \n",
    "    Lambda = 10  # regularization parameter \n",
    "    n = 11 # total number of features for the movies\n",
    "    no_of_movies = y.shape[0] # total number of movies\n",
    "    no_of_users = y.shape[1]   # total number of users\n",
    "    \n",
    "\n",
    "    # calculating normalized y values\n",
    "    yPrime, yMean = mean_normal(y, r)\n",
    "    \n",
    "    # initializing the machine learning matrices\n",
    "    X = np.random.rand(no_of_movies, n)\n",
    "    Theta = np.random.rand(no_of_users, n)\n",
    "    initial_theta = np.concatenate((X, Theta), axis = None)\n",
    "    args = (yPrime, Lambda)\n",
    "    \n",
    "    # setting options for the optimizer function \n",
    "    opts = {'maxiter' : 30,    # non-default value.\n",
    "            'disp' : True,    # non-default value.\n",
    "            'gtol' : 1e-5,    # default value.\n",
    "            'norm' : np.inf,  # default value.\n",
    "            'eps' : 1.4901161193847656e-08}  # default value.\n",
    "\n",
    "    # training the model \n",
    "    optimal_rolled_theta = optimize.minimize(f, initial_theta, jac = grads, args = args,\n",
    "                             method = 'CG', options = opts)\n",
    "\n",
    "    print(optimal_rolled_theta.x)\n",
    "    \n",
    "    # Converting the matrices to their original shape \n",
    "    X, Theta = optimal_rolled_theta.x[:no_of_movies*n,], optimal_rolled_theta.x[no_of_movies*n:,]\n",
    "    X = np.reshape(X, (no_of_movies, n))\n",
    "    Theta = np.reshape(Theta, (no_of_users, n))\n",
    "\n",
    "    # calculating the normalized predictions\n",
    "    prediction = (X.dot(np.transpose(Theta))).copy()\n",
    "\n",
    "    # calculating the actual predictions on a scale of 1.00 to 5.00\n",
    "    actualPreds = np.zeros(yPrime.shape, dtype = float)\n",
    "    for i in range(no_of_movies):\n",
    "        temp = yMean[i]\n",
    "        actualPreds[i] = prediction[i] + temp\n",
    "        \n",
    "    # predictions for the user \n",
    "    my_preds = actualPreds[:, userID]\n",
    "    \n",
    "    # calculating the suggested movies for the user \n",
    "    suggestedMovies = dict(); # contains the movie ids as key and ratings as values\n",
    "\n",
    "    for i in range(no_of_movies):\n",
    "        suggestedMovies[i] = my_preds[i];\n",
    "\n",
    "    suggestedMovies = {k: v for k, v in sorted(suggestedMovies.items(), key = lambda item: item[1], reverse = True)}\n",
    "    \n",
    "    # dict to hold the top movies for the user\n",
    "    suggested_movie_dict = dict()\n",
    "    for key, item in suggestedMovies.items():\n",
    "        if(my_r[key] == 1):  #so that already rated movies don't appear \n",
    "            continue\n",
    "        suggested_movie_dict[key] = movieList[key]\n",
    "\n",
    "    return suggested_movie_dict  "
   ]
  },
  {
   "cell_type": "code",
   "execution_count": null,
   "metadata": {},
   "outputs": [],
   "source": [
    "# allows user to rate certain items\n",
    "def rate(item_id, user_id, y, r, rating):\n",
    "    # updating y and r based on the user's rating on item_id\n",
    "    y[item_id, user_id] = rating\n",
    "    r = (y != 0) * 1\n",
    "    \n",
    "    return y, r"
   ]
  },
  {
   "cell_type": "code",
   "execution_count": null,
   "metadata": {},
   "outputs": [],
   "source": [
    "# downloading the y, r matrices for the movies\n",
    "y_movies, r_movies = download_yr_movies()"
   ]
  },
  {
   "cell_type": "code",
   "execution_count": null,
   "metadata": {},
   "outputs": [],
   "source": [
    "# a test user has already been created and added to the csv file\n",
    "# user_id 943 is the test user \n",
    "user_id = 943\n",
    "suggested_movie_dict = recommend(user_id, y_movies, r_movies)\n",
    "suggested_movie_dict"
   ]
  },
  {
   "cell_type": "code",
   "execution_count": null,
   "metadata": {},
   "outputs": [],
   "source": [
    "# rating a movie \n",
    "\n",
    "item_id = 271 # Good Will Hunting\n",
    "rating = 5.00\n",
    "y_movies, r_movies = rate(item_id=item_id, user_id=user_id, y=y_movies, r=r_movies, rating=rating)\n",
    "\n",
    "print(y_movies[item_id, user_id])"
   ]
  },
  {
   "cell_type": "code",
   "execution_count": null,
   "metadata": {},
   "outputs": [],
   "source": [
    "# testing the suggestions after new ratings\n",
    "suggested_movie_dict = recommend(user_id, y_movies, r_movies)\n",
    "suggested_movie_dict"
   ]
  },
  {
   "cell_type": "code",
   "execution_count": null,
   "metadata": {},
   "outputs": [],
   "source": []
  }
 ],
 "metadata": {
  "kernelspec": {
   "display_name": "Python 3",
   "language": "python",
   "name": "python3"
  },
  "language_info": {
   "codemirror_mode": {
    "name": "ipython",
    "version": 3
   },
   "file_extension": ".py",
   "mimetype": "text/x-python",
   "name": "python",
   "nbconvert_exporter": "python",
   "pygments_lexer": "ipython3",
   "version": "3.7.6"
  }
 },
 "nbformat": 4,
 "nbformat_minor": 4
}
