{
 "cells": [
  {
   "cell_type": "code",
   "execution_count": 1,
   "metadata": {},
   "outputs": [],
   "source": [
    "import numpy as np\n",
    "from scipy.io import loadmat\n",
    "from scipy import optimize\n",
    "import pandas as pd"
   ]
  },
  {
   "cell_type": "code",
   "execution_count": 2,
   "metadata": {},
   "outputs": [],
   "source": [
    "# extracting the y and r matrices from the csv files\n",
    "a = pd.read_csv('data/r_movies.csv')\n",
    "r = a.to_numpy()\n",
    "t = pd.read_csv('data/y_movies.csv')\n",
    "y = t.to_numpy()\n",
    "\n",
    "# creating the movie list from the movie_ids csv file\n",
    "movieList = pd.read_csv('data/movie_ids.csv')[\"name\"].to_list()"
   ]
  },
  {
   "cell_type": "code",
   "execution_count": 3,
   "metadata": {
    "scrolled": true
   },
   "outputs": [],
   "source": [
    "# function to normalize the dataset \n",
    "def mean_normal(a, r):\n",
    "    temp = np.zeros(a.shape, dtype = float)\n",
    "    yMean = np.zeros((y.shape[0], 1), dtype = float)\n",
    "    for i in range(len(r)):\n",
    "        mean = sum(a[i]) / sum(r[i])\n",
    "        \n",
    "        temp[i] = a[i] - mean\n",
    "        yMean[i] = mean\n",
    "       \n",
    "    return temp * r, yMean;\n",
    "\n",
    "#creating new user rating vector\n",
    "my_ratings = np.zeros((y.shape[0], 1), dtype = float)\n",
    "my_ratings[49] = 4\n",
    "my_ratings[55]= 5\n",
    "my_ratings[63] = 5\n",
    "my_ratings[68]= 5\n",
    "my_ratings[70]= 4\n",
    "my_ratings[97] = 4\n",
    "my_ratings[126] = 4\n",
    "my_ratings[177] = 5\n",
    "my_ratings[195]= 4\n",
    "my_ratings[0] = 4\n",
    "my_ratings[10] = 5\n",
    "my_ratings[180] = 4\n",
    "\n",
    "# generating user r vector from the user ratings\n",
    "my_r = (my_ratings != 0) * 1\n",
    "\n",
    "# adding new user y vector to y rating matrix \n",
    "y = np.hstack((my_ratings, y))\n",
    "\n",
    "# adding new user r vector to original r matrix \n",
    "r = np.hstack((my_r, r))"
   ]
  },
  {
   "cell_type": "code",
   "execution_count": 4,
   "metadata": {},
   "outputs": [],
   "source": [
    "Lambda= 10  # regularization parameter \n",
    "n = 11 # total number of features for the movies\n",
    "no_of_movies = y.shape[0] # total number of movies\n",
    "no_of_users = y.shape[1]   # total number of users\n",
    "\n",
    "# calculating normalized y values\n",
    "yPrime, yMean = mean_normal(y, r)"
   ]
  },
  {
   "cell_type": "code",
   "execution_count": 5,
   "metadata": {},
   "outputs": [],
   "source": [
    "# initializing the variables\n",
    "X = np.random.rand(no_of_movies, n)\n",
    "Theta = np.random.rand(no_of_users, n)\n",
    "initial_theta = np.concatenate((X, Theta), axis = None)\n",
    "args = (yPrime, Lambda)"
   ]
  },
  {
   "cell_type": "code",
   "execution_count": 6,
   "metadata": {},
   "outputs": [],
   "source": [
    "# function for calculating the cost \n",
    "def f(initial_theta, *args):\n",
    "    yPrime, Lambda = args\n",
    "    X, Theta = initial_theta[:no_of_movies*n,], initial_theta[no_of_movies*n:,]\n",
    "    X = np.reshape(X, (no_of_movies, n))\n",
    "    Theta = np.reshape(Theta, (no_of_users, n))\n",
    "    Error = ((X.dot(np.transpose(Theta)))-yPrime).copy()\n",
    "    J = (.5) * ((Error * Error)* r).sum()\n",
    "    Reg_term_theta = (Lambda / 2) * ((Theta * Theta).sum())\n",
    "    Reg_term_X = (Lambda / 2) * ((X * X).sum())\n",
    "    J = J + Reg_term_theta + Reg_term_X\n",
    "    return J"
   ]
  },
  {
   "cell_type": "code",
   "execution_count": 7,
   "metadata": {},
   "outputs": [],
   "source": [
    "# function for calculating the gradients\n",
    "def grads(initial_theta, *args):\n",
    "    yPrime, Lambda = args\n",
    "    X, Theta = initial_theta[:no_of_movies*n,], initial_theta[no_of_movies*n:,]\n",
    "    X = np.reshape(X, (no_of_movies, n))\n",
    "    Theta = np.reshape(Theta, (no_of_users, n))\n",
    "    Error = ((X.dot(np.transpose(Theta)))-yPrime).copy()\n",
    "    X_grad = ((Error*r).dot(Theta) + Lambda * X).copy()\n",
    "    Theta_grad = ((np.transpose(Error*r)).dot(X) + Lambda * Theta).copy()\n",
    "    rolled_up_grads = np.concatenate((X_grad, Theta_grad), axis=None)\n",
    "    return rolled_up_grads"
   ]
  },
  {
   "cell_type": "code",
   "execution_count": 8,
   "metadata": {
    "scrolled": true
   },
   "outputs": [
    {
     "name": "stdout",
     "output_type": "stream",
     "text": [
      "Warning: Maximum number of iterations has been exceeded.\n",
      "         Current function value: 38895.603152\n",
      "         Iterations: 30\n",
      "         Function evaluations: 48\n",
      "         Gradient evaluations: 48\n",
      "[ 0.60288791  0.05234486  0.07904991 ... -0.32654178 -0.18132563\n",
      " -0.69575801]\n"
     ]
    }
   ],
   "source": [
    "# setting options for the optimizer function \n",
    "opts = {'maxiter' : 30,    # non-default value.\n",
    "        'disp' : True,    # non-default value.\n",
    "        'gtol' : 1e-5,    # default value.\n",
    "        'norm' : np.inf,  # default value.\n",
    "        'eps' : 1.4901161193847656e-08}  # default value.\n",
    "\n",
    "# training the model \n",
    "optimal_rolled_theta = optimize.minimize(f, initial_theta, jac = grads, args = args,\n",
    "                         method = 'CG', options = opts)\n",
    "\n",
    "print(optimal_rolled_theta.x)"
   ]
  },
  {
   "cell_type": "code",
   "execution_count": 9,
   "metadata": {},
   "outputs": [],
   "source": [
    "# Converting the matrices to their original shape \n",
    "X, Theta = optimal_rolled_theta.x[:no_of_movies*n,], optimal_rolled_theta.x[no_of_movies*n:,]\n",
    "X = np.reshape(X, (no_of_movies, n))\n",
    "Theta = np.reshape(Theta, (no_of_users, n))\n",
    "\n",
    "# calculating the normalized predictions\n",
    "prediction = (X.dot(np.transpose(Theta))).copy()\n",
    "\n",
    "# calculating the actual predictions on a scale of 1.00 to 5.00\n",
    "actualPreds = np.zeros(yPrime.shape, dtype = float)\n",
    "for i in range(no_of_movies):\n",
    "    temp = yMean[i]\n",
    "    actualPreds[i] = prediction[i] + temp"
   ]
  },
  {
   "cell_type": "code",
   "execution_count": 10,
   "metadata": {},
   "outputs": [],
   "source": [
    "# predictions for new user \n",
    "my_preds = actualPreds[:,0]"
   ]
  },
  {
   "cell_type": "code",
   "execution_count": 11,
   "metadata": {},
   "outputs": [],
   "source": [
    "# calculating the suggested movies for the new user \n",
    "suggestedMovies = dict(); # contains the movie ids as key and ratings as values\n",
    "\n",
    "for i in range(no_of_movies):\n",
    "    suggestedMovies[i] = my_preds[i];\n",
    "    \n",
    "suggestedMovies = {k: v for k, v in sorted(suggestedMovies.items(), key = lambda item: item[1], reverse = True)}"
   ]
  },
  {
   "cell_type": "code",
   "execution_count": 12,
   "metadata": {
    "scrolled": true
   },
   "outputs": [
    {
     "name": "stdout",
     "output_type": "stream",
     "text": [
      "Prefontaine (1997)\n",
      "Santa with Muscles (1996)\n",
      "Someone Else's America (1995)\n",
      "Saint of Fort Washington, The (1993)\n",
      "Great Day in Harlem, A (1994)\n",
      "They Made Me a Criminal (1939)\n",
      "Aiqing wansui (1994)\n",
      "Entertaining Angels: The Dorothy Day Story (1996)\n",
      "Star Kid (1997)\n",
      "Marlene Dietrich: Shadow and Light (1996) \n",
      "Schindler's List (1993)\n",
      "Pather Panchali (1955)\n",
      "Maya Lin: A Strong Clear Vision (1994)\n",
      "Some Mother's Son (1996)\n",
      "Anna (1996)\n",
      "Titanic (1997)\n",
      "Everest (1998)\n",
      "Good Will Hunting (1997)\n",
      "Casablanca (1942)\n",
      "Usual Suspects, The (1995)\n"
     ]
    }
   ],
   "source": [
    "# displaying the top N movies for the user \n",
    "loopControl = 0\n",
    "topNmovies = 20\n",
    "for key, item in suggestedMovies.items():\n",
    "    if(my_r[key] == 1):  #so that already rated movies don't appear \n",
    "        continue\n",
    "    print(movieList[key])\n",
    "    loopControl += 1\n",
    "    if(loopControl >= topNmovies):\n",
    "        break"
   ]
  },
  {
   "cell_type": "code",
   "execution_count": 15,
   "metadata": {},
   "outputs": [
    {
     "data": {
      "text/plain": [
       "array([[4., 5., 4., ..., 5., 0., 0.],\n",
       "       [0., 3., 0., ..., 0., 0., 5.],\n",
       "       [0., 4., 0., ..., 0., 0., 0.],\n",
       "       ...,\n",
       "       [0., 0., 0., ..., 0., 0., 0.],\n",
       "       [0., 0., 0., ..., 0., 0., 0.],\n",
       "       [0., 0., 0., ..., 0., 0., 0.]])"
      ]
     },
     "execution_count": 15,
     "metadata": {},
     "output_type": "execute_result"
    }
   ],
   "source": [
    "y"
   ]
  },
  {
   "cell_type": "code",
   "execution_count": 23,
   "metadata": {},
   "outputs": [
    {
     "data": {
      "text/plain": [
       "3.0"
      ]
     },
     "execution_count": 23,
     "metadata": {},
     "output_type": "execute_result"
    }
   ],
   "source": [
    "y[1,1]"
   ]
  },
  {
   "cell_type": "code",
   "execution_count": 20,
   "metadata": {},
   "outputs": [
    {
     "data": {
      "text/plain": [
       "(1682, 944)"
      ]
     },
     "execution_count": 20,
     "metadata": {},
     "output_type": "execute_result"
    }
   ],
   "source": [
    "y.shape"
   ]
  },
  {
   "cell_type": "code",
   "execution_count": null,
   "metadata": {},
   "outputs": [],
   "source": [
    "## Code to generate new user vectors and adding it to the original \n",
    "\n",
    "# my_ratings = np.zeros((y.shape[0], 1), dtype = float)\n",
    "\n",
    "\n",
    "# # generating user r vector from the user ratings\n",
    "# my_r = (my_ratings != 0) * 1\n",
    "\n",
    "# # adding new user y vector to y rating matrix \n",
    "# y = np.hstack((y, my_ratings))\n",
    "\n",
    "# # adding new user r vector to original r matrix \n",
    "# r = np.hstack((r, my_r))"
   ]
  }
 ],
 "metadata": {
  "kernelspec": {
   "display_name": "Python 3",
   "language": "python",
   "name": "python3"
  },
  "language_info": {
   "codemirror_mode": {
    "name": "ipython",
    "version": 3
   },
   "file_extension": ".py",
   "mimetype": "text/x-python",
   "name": "python",
   "nbconvert_exporter": "python",
   "pygments_lexer": "ipython3",
   "version": "3.7.6"
  }
 },
 "nbformat": 4,
 "nbformat_minor": 4
}
